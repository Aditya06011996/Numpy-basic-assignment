{
 "cells": [
  {
   "cell_type": "markdown",
   "id": "b28aeedf-45b2-48ab-aa12-39ec3c9a91c6",
   "metadata": {},
   "source": [
    "import numpy as np\n",
    "\n",
    "list_ = [ ‘1’ , ’2’ , ‘3’ , ‘4’ , ‘5’ ]\n",
    "\n",
    "array_list = np.array(object = list_)\n",
    "\n",
    "Q1. Is there any difference in the data type of variables list_ and array_list? If there is then write a code\n",
    "to print the data types of both the variables."
   ]
  },
  {
   "cell_type": "markdown",
   "id": "fc99965e-426d-43ed-9ded-8f088c55331a",
   "metadata": {},
   "source": [
    "Ans - Yes, there is a difference in the data types of the variables 'list_' and 'array_list'. In the given code, 'list_' is a Python list containing string elements, while 'array_list' is a NumPy array created from that list. The data types of the elements in 'list_' are Python strings, while the data type of the elements in 'array_list' will be determined by NumPy based on the input data.\n",
    "\n",
    "You can print the data types of both variables using the following code:"
   ]
  },
  {
   "cell_type": "code",
   "execution_count": 2,
   "id": "149fb65e-ddae-4551-a73c-5f0ca346c010",
   "metadata": {},
   "outputs": [
    {
     "name": "stdout",
     "output_type": "stream",
     "text": [
      "Data type of list_: <class 'str'>\n",
      "Data type of array_list: <U1\n"
     ]
    }
   ],
   "source": [
    "import numpy as np\n",
    "\n",
    "list_ = ['1', '2', '3', '4', '5']\n",
    "array_list = np.array(object=list_)\n",
    "\n",
    "print(\"Data type of list_:\", type(list_[0]))\n",
    "print(\"Data type of array_list:\", array_list.dtype)\n"
   ]
  },
  {
   "cell_type": "markdown",
   "id": "f378f589-786a-479e-b7e3-4715f044519b",
   "metadata": {},
   "source": [
    "In this code, 'type(list_[0])' gives you the data type of the individual element in the Python list, and 'array_list.dtype' gives you the data type of the elements in the NumPy array."
   ]
  },
  {
   "cell_type": "markdown",
   "id": "c80d8961-7640-4ae8-836c-0b88cd4707e8",
   "metadata": {},
   "source": [
    "Q2. Write a code to print the data type of each and every element of both the variables list_ and\n",
    "arra_list."
   ]
  },
  {
   "cell_type": "code",
   "execution_count": 1,
   "id": "ddd6aa1b-ff92-4f31-88ce-aa65b2f0e361",
   "metadata": {},
   "outputs": [
    {
     "name": "stdout",
     "output_type": "stream",
     "text": [
      "Data types in list_:\n",
      "<class 'str'>\n",
      "<class 'str'>\n",
      "<class 'str'>\n",
      "<class 'str'>\n",
      "<class 'str'>\n",
      "\n",
      "Data types in array_list:\n",
      "<U1\n",
      "<U1\n",
      "<U1\n",
      "<U1\n",
      "<U1\n"
     ]
    }
   ],
   "source": [
    "import numpy as np\n",
    "\n",
    "list_ = ['1', '2', '3', '4', '5']\n",
    "array_list = np.array(object=list_)\n",
    "\n",
    "print(\"Data types in list_:\")\n",
    "for element in list_:\n",
    "    print(type(element))\n",
    "\n",
    "print(\"\\nData types in array_list:\")\n",
    "for element in array_list:\n",
    "    print(element.dtype)\n"
   ]
  },
  {
   "cell_type": "markdown",
   "id": "81247f03-3f2c-451f-b948-a9a4bb5404ff",
   "metadata": {},
   "source": [
    "This code iterates through each element in 'list_' and prints its data type using 'type(element)'. For the 'array_list', it iterates through each element and prints the data type using 'element.dtype'. Note that for the 'array_list', the data types will be inferred by NumPy during array creation based on the input data."
   ]
  },
  {
   "cell_type": "markdown",
   "id": "2caa0d58-b206-403e-8d9b-527ed5a3571b",
   "metadata": {},
   "source": [
    "Q3. Considering the following changes in the variable, array_list:\n",
    "array_list = np.array(object = list_, dtype = int)\n",
    "Will there be any difference in the data type of the elements present in both the variables, list_ and\n",
    "arra_list? If so then print the data types of each and every element present in both the variables, list_\n",
    "and arra_list.\n",
    "\n"
   ]
  },
  {
   "cell_type": "markdown",
   "id": "fae5f310-28f9-476a-8365-e93c7dc7a31e",
   "metadata": {},
   "source": [
    "Ans - Yes, there will be a difference in the data type of the elements present in the variables 'list_' and 'array_list' after using 'array_list = np.array(object=list_, dtype=int)'. The 'dtype=int' argument specifies that the elements in the resulting NumPy array 'array_list' should be converted to integers.\n",
    "\n",
    "Here's the corrected version of the code to print the data types of each element in both the variables 'list_' and 'array_list':"
   ]
  },
  {
   "cell_type": "code",
   "execution_count": 3,
   "id": "5a48f9fa-480a-44cf-945f-3ac01c1e2b94",
   "metadata": {},
   "outputs": [
    {
     "name": "stdout",
     "output_type": "stream",
     "text": [
      "Data types in list_:\n",
      "<class 'str'>\n",
      "<class 'str'>\n",
      "<class 'str'>\n",
      "<class 'str'>\n",
      "<class 'str'>\n",
      "\n",
      "Data types in array_list:\n",
      "<class 'numpy.int64'>\n",
      "<class 'numpy.int64'>\n",
      "<class 'numpy.int64'>\n",
      "<class 'numpy.int64'>\n",
      "<class 'numpy.int64'>\n"
     ]
    }
   ],
   "source": [
    "import numpy as np\n",
    "\n",
    "list_ = ['1', '2', '3', '4', '5']\n",
    "array_list = np.array(object=list_, dtype=int)\n",
    "\n",
    "print(\"Data types in list_:\")\n",
    "for element in list_:\n",
    "    print(type(element))\n",
    "\n",
    "print(\"\\nData types in array_list:\")\n",
    "for element in array_list:\n",
    "    print(type(element))\n"
   ]
  },
  {
   "cell_type": "markdown",
   "id": "004771ea-04c7-4a13-b1d4-8ca71092b3a0",
   "metadata": {},
   "source": [
    "In this code, for 'list_', the data types of elements will still be strings ('1', '2', etc.), whereas for 'array_list', the data types of elements will be integers (1, 2, etc.)."
   ]
  },
  {
   "cell_type": "markdown",
   "id": "eb9cfaa9-f236-48da-8351-7c7e602a835a",
   "metadata": {},
   "source": [
    "Consider the below code to answer further questions:\n",
    "import numpy as np\n",
    "\n",
    "num_list = [ [ 1 , 2 , 3 ] , [ 4 , 5 , 6 ] ]\n",
    "\n",
    "num_array = np.array(object = num_list)\n",
    "\n",
    "Q4. Write a code to find the following characteristics of variable, num_array:\n",
    "(i) shape\n",
    "(ii) size"
   ]
  },
  {
   "cell_type": "markdown",
   "id": "b8b23993-500e-4adc-83c6-8205ff8182ec",
   "metadata": {},
   "source": [
    "Ans - Certainly! Here's the code to find the shape and size of the NumPy array 'num_array':"
   ]
  },
  {
   "cell_type": "code",
   "execution_count": 4,
   "id": "854ed167-408f-433b-bedd-181a26dd56a1",
   "metadata": {},
   "outputs": [
    {
     "name": "stdout",
     "output_type": "stream",
     "text": [
      "Shape of num_array: (2, 3)\n",
      "Size of num_array: 6\n"
     ]
    }
   ],
   "source": [
    "import numpy as np\n",
    "\n",
    "num_list = [[1, 2, 3], [4, 5, 6]]\n",
    "num_array = np.array(object=num_list)\n",
    "\n",
    "# (i) Shape\n",
    "print(\"Shape of num_array:\", num_array.shape)\n",
    "\n",
    "# (ii) Size\n",
    "print(\"Size of num_array:\", num_array.size)\n"
   ]
  },
  {
   "cell_type": "markdown",
   "id": "57d339ee-c27f-4dc1-a3ca-512d82e8759c",
   "metadata": {},
   "source": [
    "In this code, 'num_array.shape' will give you a tuple representing the dimensions of the array, and 'num_array.size' will give you the total number of elements in the array."
   ]
  },
  {
   "cell_type": "markdown",
   "id": "e149967a-e25e-47b5-ba65-61618376c71d",
   "metadata": {},
   "source": [
    "Q5. Write a code to create numpy array of 3*3 matrix containing zeros only, using a numpy array\n",
    "creation function.\n",
    "[Hint: The size of the array will be 9 and the shape will be (3,3).]"
   ]
  },
  {
   "cell_type": "markdown",
   "id": "f16767e1-0c30-4cd1-a00c-7dfa51193319",
   "metadata": {},
   "source": [
    "Ans - Certainly! You can create a NumPy array of a 3x3 matrix containing zeros using the 'numpy.zeros' function. Here's the code to achieve that:"
   ]
  },
  {
   "cell_type": "code",
   "execution_count": 5,
   "id": "05870cc6-12bd-43e1-a26c-f156bfb78391",
   "metadata": {},
   "outputs": [
    {
     "name": "stdout",
     "output_type": "stream",
     "text": [
      "Array of zeros:\n",
      "[[0. 0. 0.]\n",
      " [0. 0. 0.]\n",
      " [0. 0. 0.]]\n"
     ]
    }
   ],
   "source": [
    "import numpy as np\n",
    "\n",
    "# Create a 3x3 array of zeros\n",
    "zero_array = np.zeros((3, 3))\n",
    "\n",
    "print(\"Array of zeros:\")\n",
    "print(zero_array)\n"
   ]
  },
  {
   "cell_type": "markdown",
   "id": "5e25578a-be63-4a89-99e2-786273e75465",
   "metadata": {},
   "source": [
    "Q6. Create an identity matrix of shape (5,5) using numpy functions?\n",
    "[Hint: An identity matrix is a matrix containing 1 diagonally and other elements will be 0.]"
   ]
  },
  {
   "cell_type": "markdown",
   "id": "4429bcd4-5d8a-46d5-8ddc-66cd51621028",
   "metadata": {},
   "source": [
    "Ans - Sure! You can create an identity matrix of shape (5, 5) using the 'numpy.identity' function. Here's how you can do it:"
   ]
  },
  {
   "cell_type": "code",
   "execution_count": 6,
   "id": "d2f08c24-254e-4afc-8097-9d49f78c6158",
   "metadata": {},
   "outputs": [
    {
     "name": "stdout",
     "output_type": "stream",
     "text": [
      "Identity matrix:\n",
      "[[1. 0. 0. 0. 0.]\n",
      " [0. 1. 0. 0. 0.]\n",
      " [0. 0. 1. 0. 0.]\n",
      " [0. 0. 0. 1. 0.]\n",
      " [0. 0. 0. 0. 1.]]\n"
     ]
    }
   ],
   "source": [
    "import numpy as np\n",
    "\n",
    "# Create a 5x5 identity matrix\n",
    "identity_matrix = np.identity(5)\n",
    "\n",
    "print(\"Identity matrix:\")\n",
    "print(identity_matrix)\n"
   ]
  },
  {
   "cell_type": "code",
   "execution_count": null,
   "id": "9d0125fe-9f24-4913-ac74-718d6a2eaf40",
   "metadata": {},
   "outputs": [],
   "source": []
  }
 ],
 "metadata": {
  "kernelspec": {
   "display_name": "Python 3 (ipykernel)",
   "language": "python",
   "name": "python3"
  },
  "language_info": {
   "codemirror_mode": {
    "name": "ipython",
    "version": 3
   },
   "file_extension": ".py",
   "mimetype": "text/x-python",
   "name": "python",
   "nbconvert_exporter": "python",
   "pygments_lexer": "ipython3",
   "version": "3.10.8"
  }
 },
 "nbformat": 4,
 "nbformat_minor": 5
}
